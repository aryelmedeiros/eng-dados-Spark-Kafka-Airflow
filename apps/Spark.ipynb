{
  "cells": [
    {
      "cell_type": "markdown",
      "metadata": {
        "id": "view-in-github",
        "colab_type": "text"
      },
      "source": [
        "<a href=\"https://colab.research.google.com/github/aryelmedeiros/eng-dados-Spark-Kafka-Airflow/blob/main/apps/Spark.ipynb\" target=\"_parent\"><img src=\"https://colab.research.google.com/assets/colab-badge.svg\" alt=\"Open In Colab\"/></a>"
      ]
    },
    {
      "cell_type": "markdown",
      "metadata": {
        "id": "A_pds0odi1Rj"
      },
      "source": [
        "## Utilizando o Spark no Google Colab\n",
        "\n",
        "Para facilitar o desenvolvimento de nosso projeto neste curso vamos utilizar o Google Colab como ferramenta e para configurar o PySpark basta executar os comandos abaixo na própria célula do seu *notebook*."
      ]
    },
    {
      "cell_type": "code",
      "execution_count": null,
      "metadata": {
        "id": "JmcO4uWZ3OLO"
      },
      "outputs": [],
      "source": [
        "# instalar as dependências\n",
        "!apt-get update -qq\n",
        "!apt-get install openjdk-8-jdk-headless -qq > /dev/null #instalação do java8\n",
        "!wget -q https://archive.apache.org/dist/spark/spark-3.1.2/spark-3.1.2-bin-hadoop2.7.tgz #versão do spark, download e descompactação\n",
        "!tar xf spark-3.1.2-bin-hadoop2.7.tgz\n",
        "!pip install -q findspark"
      ]
    },
    {
      "cell_type": "code",
      "execution_count": null,
      "metadata": {
        "id": "_4Z_1m0z3sPJ"
      },
      "outputs": [],
      "source": [
        "# variáveis de ambiente\n",
        "import os\n",
        "os.environ[\"JAVA_HOME\"] = \"/usr/lib/jvm/java-8-openjdk-amd64\"\n",
        "os.environ[\"SPARK_HOME\"] = \"/content/spark-3.1.2-bin-hadoop2.7\""
      ]
    },
    {
      "cell_type": "code",
      "execution_count": null,
      "metadata": {
        "id": "kqdft9fpGlH0"
      },
      "outputs": [],
      "source": [
        "import findspark\n",
        "findspark.init()"
      ]
    },
    {
      "cell_type": "markdown",
      "metadata": {
        "id": "xIZNca7Pjgqf"
      },
      "source": [
        "# Carregamento de Dados\n",
        "---"
      ]
    },
    {
      "cell_type": "markdown",
      "metadata": {
        "id": "n2mFfLx470tO"
      },
      "source": [
        "## Acessando o [Spark UI](https://spark.apache.org/docs/3.1.2/web-ui.html) (Google Colab)"
      ]
    },
    {
      "cell_type": "code",
      "execution_count": null,
      "metadata": {
        "id": "RpSjVUhR8AYq"
      },
      "outputs": [],
      "source": [
        "#para acessar o spark UI, comenta o trecho acima e encerre a sessão\n",
        "# diferença é a porta\n",
        "from pyspark.sql import SparkSession\n",
        "\n",
        "spark = SparkSession.builder \\\n",
        "    .master('local[*]') \\\n",
        "    .appName(\"Iniciando com Spark\") \\\n",
        "    .config('spark.ui.port', '4050') \\\n",
        "    .getOrCreate()"
      ]
    },
    {
      "cell_type": "markdown",
      "metadata": {
        "id": "Otwtgug3T4tW"
      },
      "source": [
        "[Site ngrok](https://ngrok.com)"
      ]
    },
    {
      "cell_type": "code",
      "execution_count": null,
      "metadata": {
        "id": "Wy6EXcMn8bg5",
        "colab": {
          "base_uri": "https://localhost:8080/"
        },
        "outputId": "a83cad63-483f-488e-91bd-1ee6755f85d3"
      },
      "outputs": [
        {
          "output_type": "stream",
          "name": "stdout",
          "text": [
            "Archive:  ngrok-stable-linux-amd64.zip\n",
            "  inflating: ngrok                   \n"
          ]
        }
      ],
      "source": [
        "# caminho seguro na nuvem\n",
        "!wget -q https://bin.equinox.io/c/4VmDzA7iaHb/ngrok-stable-linux-amd64.zip\n",
        "!unzip ngrok-stable-linux-amd64.zip\n"
      ]
    },
    {
      "cell_type": "code",
      "execution_count": null,
      "metadata": {
        "id": "UL5yysRL8i_I"
      },
      "outputs": [],
      "source": [
        "# criando o caminho que vai rodar na porta 4050, rodando em segundo plano\n",
        "# criar conta no https://dashboard.ngrok.com/login\n",
        "get_ipython().system_raw('./ngrok authtoken 2ZWGhV11RMRHj5yIjZ7ubKIGhXC_5LiDCe8Frh3rZZHcJ5Br5')\n",
        "get_ipython().system_raw('./ngrok http 4050 &')"
      ]
    },
    {
      "cell_type": "code",
      "execution_count": null,
      "metadata": {
        "id": "GOFKWePj8no0",
        "colab": {
          "base_uri": "https://localhost:8080/"
        },
        "outputId": "e906ac8d-ff0b-471f-f0b7-964c64860089"
      },
      "outputs": [
        {
          "output_type": "stream",
          "name": "stdout",
          "text": [
            "{\"tunnels\":[{\"name\":\"command_line\",\"uri\":\"/api/tunnels/command_line\",\"public_url\":\"https://6c30-35-189-164-170.ngrok-free.app\",\"proto\":\"https\",\"config\":{\"addr\":\"http://localhost:4050\",\"inspect\":true},\"metrics\":{\"conns\":{\"count\":0,\"gauge\":0,\"rate1\":0,\"rate5\":0,\"rate15\":0,\"p50\":0,\"p90\":0,\"p95\":0,\"p99\":0},\"http\":{\"count\":0,\"rate1\":0,\"rate5\":0,\"rate15\":0,\"p50\":0,\"p90\":0,\"p95\":0,\"p99\":0}}},{\"name\":\"command_line (http)\",\"uri\":\"/api/tunnels/command_line%20%28http%29\",\"public_url\":\"http://6c30-35-189-164-170.ngrok-free.app\",\"proto\":\"http\",\"config\":{\"addr\":\"http://localhost:4050\",\"inspect\":true},\"metrics\":{\"conns\":{\"count\":0,\"gauge\":0,\"rate1\":0,\"rate5\":0,\"rate15\":0,\"p50\":0,\"p90\":0,\"p95\":0,\"p99\":0},\"http\":{\"count\":0,\"rate1\":0,\"rate5\":0,\"rate15\":0,\"p50\":0,\"p90\":0,\"p95\":0,\"p99\":0}}}],\"uri\":\"/api/tunnels\"}\n"
          ]
        }
      ],
      "source": [
        "# acessando a porta 4050, com uma url pública\n",
        "!curl -s http://localhost:4040/api/tunnels\n"
      ]
    },
    {
      "cell_type": "code",
      "execution_count": null,
      "metadata": {
        "id": "oonn_IJ08rfq",
        "colab": {
          "base_uri": "https://localhost:8080/",
          "height": 216
        },
        "outputId": "59c1bda9-2639-4b0a-e3de-4d7a0f8a1224"
      },
      "outputs": [
        {
          "output_type": "execute_result",
          "data": {
            "text/plain": [
              "<pyspark.sql.session.SparkSession at 0x7c1fccaeb880>"
            ],
            "text/html": [
              "\n",
              "            <div>\n",
              "                <p><b>SparkSession - in-memory</b></p>\n",
              "                \n",
              "        <div>\n",
              "            <p><b>SparkContext</b></p>\n",
              "\n",
              "            <p><a href=\"http://41cf8e448aff:4050\">Spark UI</a></p>\n",
              "\n",
              "            <dl>\n",
              "              <dt>Version</dt>\n",
              "                <dd><code>v3.1.2</code></dd>\n",
              "              <dt>Master</dt>\n",
              "                <dd><code>local[*]</code></dd>\n",
              "              <dt>AppName</dt>\n",
              "                <dd><code>Iniciando com Spark</code></dd>\n",
              "            </dl>\n",
              "        </div>\n",
              "        \n",
              "            </div>\n",
              "        "
            ]
          },
          "metadata": {},
          "execution_count": 8
        }
      ],
      "source": [
        "spark"
      ]
    },
    {
      "cell_type": "code",
      "source": [
        "!pip install kafka-python"
      ],
      "metadata": {
        "colab": {
          "base_uri": "https://localhost:8080/"
        },
        "id": "MRYQpCYgFhiv",
        "outputId": "23807435-95c9-47c9-8f88-7c47c0944cf5"
      },
      "execution_count": null,
      "outputs": [
        {
          "output_type": "stream",
          "name": "stdout",
          "text": [
            "Collecting kafka-python\n",
            "  Downloading kafka_python-2.0.2-py2.py3-none-any.whl (246 kB)\n",
            "\u001b[2K     \u001b[90m━━━━━━━━━━━━━━━━━━━━━━━━━━━━━━━━━━━━━━━━\u001b[0m \u001b[32m246.5/246.5 kB\u001b[0m \u001b[31m2.9 MB/s\u001b[0m eta \u001b[36m0:00:00\u001b[0m\n",
            "\u001b[?25hInstalling collected packages: kafka-python\n",
            "Successfully installed kafka-python-2.0.2\n"
          ]
        }
      ]
    },
    {
      "cell_type": "code",
      "source": [
        "import os\n",
        "from datetime import datetime\n",
        "import time\n",
        "import threading\n",
        "import json\n",
        "from kafka import KafkaProducer\n",
        "from kafka.errors import KafkaError"
      ],
      "metadata": {
        "id": "Exb9duzYFdqE"
      },
      "execution_count": null,
      "outputs": []
    },
    {
      "cell_type": "code",
      "source": [
        "!curl -sSOL https://downloads.apache.org/kafka/3.4.1/kafka_2.13-3.4.1.tgz\n",
        "!tar -xzf kafka_2.13-3.4.1.tgz"
      ],
      "metadata": {
        "id": "wkGEeG24FsgZ"
      },
      "execution_count": null,
      "outputs": []
    },
    {
      "cell_type": "code",
      "source": [
        "!./kafka_2.13-3.4.1/bin/zookeeper-server-start.sh -daemon ./kafka_2.13-3.4.1/config/zookeeper.properties\n",
        "!./kafka_2.13-3.4.1/bin/kafka-server-start.sh -daemon ./kafka_2.13-3.4.1/config/server.properties\n",
        "!echo \"Waiting for 10 secs until kafka and zookeeper services are up and running\"\n",
        "!sleep 10"
      ],
      "metadata": {
        "colab": {
          "base_uri": "https://localhost:8080/"
        },
        "id": "vL37xhU_HR4v",
        "outputId": "463f2aab-0532-430f-a44a-734a77470c10"
      },
      "execution_count": null,
      "outputs": [
        {
          "output_type": "stream",
          "name": "stdout",
          "text": [
            "Waiting for 10 secs until kafka and zookeeper services are up and running\n"
          ]
        }
      ]
    },
    {
      "cell_type": "code",
      "source": [
        "!ps -ef | grep kafka"
      ],
      "metadata": {
        "colab": {
          "base_uri": "https://localhost:8080/"
        },
        "id": "EvrmlRJSIKnU",
        "outputId": "3a7de9fb-fcd5-4500-9c54-fc931ed2eb9d"
      },
      "execution_count": null,
      "outputs": [
        {
          "output_type": "stream",
          "name": "stdout",
          "text": [
            "root       49810    1837  0 08:18 ?        00:00:00 /bin/bash -c ps -ef | grep kafka\n",
            "root       49812   49810  0 08:18 ?        00:00:00 grep kafka\n"
          ]
        }
      ]
    },
    {
      "cell_type": "code",
      "source": [
        "!./content/kafka_2.13-3.4.1/bin/kafka-topics.sh --create --bootstrap-server 127.0.0.1:9092 --replication-factor 1 --partitions 1 --topic topico1"
      ],
      "metadata": {
        "colab": {
          "base_uri": "https://localhost:8080/"
        },
        "id": "XlZiqOchJg3f",
        "outputId": "b2fde99f-0233-4490-d6d0-cf07d8d46dc3"
      },
      "execution_count": null,
      "outputs": [
        {
          "output_type": "stream",
          "name": "stdout",
          "text": [
            "/bin/bash: line 1: ./content/kafka_2.13-3.4.1/bin/kafka-topics.sh: No such file or directory\n"
          ]
        }
      ]
    },
    {
      "cell_type": "code",
      "source": [
        "!wget https://caelum-online-public.s3.amazonaws.com/2273-introducao-spark/01/estabelecimentos.zip"
      ],
      "metadata": {
        "colab": {
          "base_uri": "https://localhost:8080/"
        },
        "id": "IvvgM5lyXRjD",
        "outputId": "1a89dae3-2507-42aa-ab87-9f9243c90add"
      },
      "execution_count": null,
      "outputs": [
        {
          "output_type": "stream",
          "name": "stdout",
          "text": [
            "--2023-12-14 08:07:20--  https://caelum-online-public.s3.amazonaws.com/2273-introducao-spark/01/estabelecimentos.zip\n",
            "Resolving caelum-online-public.s3.amazonaws.com (caelum-online-public.s3.amazonaws.com)... 54.231.128.129, 16.182.37.249, 3.5.29.169, ...\n",
            "Connecting to caelum-online-public.s3.amazonaws.com (caelum-online-public.s3.amazonaws.com)|54.231.128.129|:443... connected.\n",
            "HTTP request sent, awaiting response... 200 OK\n",
            "Length: 310117201 (296M) [application/zip]\n",
            "Saving to: ‘estabelecimentos.zip’\n",
            "\n",
            "estabelecimentos.zi 100%[===================>] 295.75M  15.6MB/s    in 20s     \n",
            "\n",
            "2023-12-14 08:07:41 (14.6 MB/s) - ‘estabelecimentos.zip’ saved [310117201/310117201]\n",
            "\n"
          ]
        }
      ]
    },
    {
      "cell_type": "code",
      "source": [
        "df = spark.read.csv(\"/content/cars.csv\", header=True, inferSchema=True)\n",
        "df.show()"
      ],
      "metadata": {
        "colab": {
          "base_uri": "https://localhost:8080/"
        },
        "id": "YIk7Z7Aa2avs",
        "outputId": "23bd32fa-a87b-491d-ce15-2bfeb9270d0f"
      },
      "execution_count": null,
      "outputs": [
        {
          "output_type": "stream",
          "name": "stdout",
          "text": [
            "+-----------------+----------+------------+------+--------------+-------------+-----------+--------------+-----------+---------------+---------+------------+-----+----------+---------+---------------+---------------+----------------+----------+---------+---------+---------+---------+---------+---------+---------+---------+---------+---------+---------------+\n",
            "|manufacturer_name|model_name|transmission| color|odometer_value|year_produced|engine_fuel|engine_has_gas|engine_type|engine_capacity|body_type|has_warranty|state|drivetrain|price_usd|is_exchangeable|location_region|number_of_photos|up_counter|feature_0|feature_1|feature_2|feature_3|feature_4|feature_5|feature_6|feature_7|feature_8|feature_9|duration_listed|\n",
            "+-----------------+----------+------------+------+--------------+-------------+-----------+--------------+-----------+---------------+---------+------------+-----+----------+---------+---------------+---------------+----------------+----------+---------+---------+---------+---------+---------+---------+---------+---------+---------+---------+---------------+\n",
            "|           Subaru|   Outback|   automatic|silver|        190000|         2010|   gasoline|         false|   gasoline|            2.5|universal|       false|owned|       all|  10900.0|          false|   Минская обл.|               9|        13|    false|     true|     true|     true|    false|     true|    false|     true|     true|     true|             16|\n",
            "|           Subaru|   Outback|   automatic|  blue|        290000|         2002|   gasoline|         false|   gasoline|            3.0|universal|       false|owned|       all|   5000.0|           true|   Минская обл.|              12|        54|    false|     true|    false|    false|     true|     true|    false|    false|    false|     true|             83|\n",
            "|           Subaru|  Forester|   automatic|   red|        402000|         2001|   gasoline|         false|   gasoline|            2.5|      suv|       false|owned|       all|   2800.0|           true|   Минская обл.|               4|        72|    false|     true|    false|    false|    false|    false|    false|    false|     true|     true|            151|\n",
            "|           Subaru|   Impreza|  mechanical|  blue|         10000|         1999|   gasoline|         false|   gasoline|            3.0|    sedan|       false|owned|       all|   9999.0|           true|   Минская обл.|               9|        42|     true|    false|    false|    false|    false|    false|    false|    false|    false|    false|             86|\n",
            "|           Subaru|    Legacy|   automatic| black|        280000|         2001|   gasoline|         false|   gasoline|            2.5|universal|       false|owned|       all|  2134.11|           true|Гомельская обл.|              14|         7|    false|     true|    false|     true|     true|    false|    false|    false|    false|     true|              7|\n",
            "|           Subaru|   Outback|   automatic|silver|        132449|         2011|   gasoline|         false|   gasoline|            2.5|universal|       false|owned|       all|  14700.0|           true|   Минская обл.|              20|        56|    false|     true|    false|    false|    false|     true|    false|     true|     true|     true|             67|\n",
            "|           Subaru|  Forester|   automatic| black|        318280|         1998|   gasoline|         false|   gasoline|            2.5|universal|       false|owned|       all|   3000.0|           true|   Минская обл.|               8|       147|    false|     true|    false|    false|     true|     true|    false|    false|     true|     true|            307|\n",
            "|           Subaru|    Legacy|   automatic|silver|        350000|         2004|   gasoline|         false|   gasoline|            2.5|    sedan|       false|owned|       all|   4500.0|          false| Брестская обл.|               7|        29|    false|     true|     true|    false|    false|    false|    false|    false|    false|     true|             73|\n",
            "|           Subaru|   Outback|   automatic|  grey|        179000|         2010|   gasoline|         false|   gasoline|            2.5|universal|       false|owned|       all|  12900.0|          false|   Минская обл.|              17|        33|    false|     true|     true|     true|     true|     true|     true|     true|     true|     true|             87|\n",
            "|           Subaru|  Forester|   automatic|silver|        571317|         1999|   gasoline|         false|   gasoline|            2.5|universal|       false|owned|       all|   4200.0|           true|   Минская обл.|               8|        11|    false|     true|     true|    false|    false|     true|    false|    false|    false|     true|             43|\n",
            "|           Subaru|  Forester|  mechanical| other|        280000|         2003|   gasoline|         false|   gasoline|            2.0|      suv|       false|owned|       all|   6900.0|           true|   Минская обл.|              14|         6|    false|     true|    false|     true|    false|     true|    false|     true|     true|     true|             11|\n",
            "|           Subaru|   Tribeca|   automatic|  grey|        256000|         2008|   gasoline|         false|   gasoline|            3.6|      suv|       false|owned|       all|   8350.0|           true|   Минская обл.|              18|        61|    false|     true|     true|     true|     true|     true|    false|    false|     true|     true|             80|\n",
            "|           Subaru|  Forester|  mechanical| other|        321000|         2002|   gasoline|         false|   gasoline|            2.0|      suv|       false|owned|       all|   4300.0|          false|   Минская обл.|              13|         2|    false|     true|    false|    false|    false|    false|    false|    false|    false|    false|              2|\n",
            "|           Subaru|     Justy|  mechanical|   red|         49999|         2001|   gasoline|         false|   gasoline|            1.3|hatchback|       false|owned|       all|   1666.0|          false|Гомельская обл.|               8|        94|     true|    false|    false|    false|    false|    false|    false|    false|    false|    false|            230|\n",
            "|           Subaru|   Outback|   automatic| brown|        154685|         2011|   gasoline|         false|   gasoline|            2.5|universal|       false|owned|       all|   8600.0|           true|   Минская обл.|              24|        34|    false|     true|    false|     true|    false|    false|    false|    false|     true|     true|             63|\n",
            "|           Subaru|   Outback|   automatic| black|        163219|         2004|   gasoline|         false|   gasoline|            2.0|universal|       false|owned|       all|   7300.0|           true|   Минская обл.|              17|        22|    false|     true|     true|    false|     true|     true|    false|    false|    false|     true|             35|\n",
            "|           Subaru|   Outback|   automatic| other|        318650|         2005|   gasoline|         false|   gasoline|            3.0|universal|       false|owned|       all|  7587.97|           true|   Минская обл.|               7|       166|    false|     true|    false|     true|     true|     true|    false|    false|     true|     true|            468|\n",
            "|           Subaru|   Impreza|  mechanical|  blue|        191000|         2005|   gasoline|         false|   gasoline|            2.0|    sedan|       false|owned|       all|  10950.0|          false|   Минская обл.|              12|         7|    false|     true|    false|    false|    false|    false|    false|    false|    false|     true|             21|\n",
            "|           Subaru|  Forester|   automatic|silver|        179000|         2014|   gasoline|         false|   gasoline|            2.0|      suv|       false|owned|       all|  12700.0|          false|   Минская обл.|              14|        14|    false|    false|     true|     true|    false|     true|     true|     true|     true|     true|             16|\n",
            "|           Subaru|  Forester|   automatic| black|        159000|         2013|   gasoline|         false|   gasoline|            2.0|      suv|       false|owned|       all|  16500.0|          false|   Минская обл.|               6|        34|    false|     true|     true|    false|     true|     true|    false|     true|     true|     true|             59|\n",
            "+-----------------+----------+------------+------+--------------+-------------+-----------+--------------+-----------+---------------+---------+------------+-----+----------+---------+---------------+---------------+----------------+----------+---------+---------+---------+---------+---------+---------+---------+---------+---------+---------+---------------+\n",
            "only showing top 20 rows\n",
            "\n"
          ]
        }
      ]
    },
    {
      "cell_type": "code",
      "source": [
        "df.printSchema()"
      ],
      "metadata": {
        "colab": {
          "base_uri": "https://localhost:8080/"
        },
        "id": "o1uUoVF83s_m",
        "outputId": "11e56d94-cca6-46b0-e64c-d9e0e15232ac"
      },
      "execution_count": null,
      "outputs": [
        {
          "output_type": "stream",
          "name": "stdout",
          "text": [
            "root\n",
            " |-- manufacturer_name: string (nullable = true)\n",
            " |-- model_name: string (nullable = true)\n",
            " |-- transmission: string (nullable = true)\n",
            " |-- color: string (nullable = true)\n",
            " |-- odometer_value: integer (nullable = true)\n",
            " |-- year_produced: integer (nullable = true)\n",
            " |-- engine_fuel: string (nullable = true)\n",
            " |-- engine_has_gas: boolean (nullable = true)\n",
            " |-- engine_type: string (nullable = true)\n",
            " |-- engine_capacity: double (nullable = true)\n",
            " |-- body_type: string (nullable = true)\n",
            " |-- has_warranty: boolean (nullable = true)\n",
            " |-- state: string (nullable = true)\n",
            " |-- drivetrain: string (nullable = true)\n",
            " |-- price_usd: double (nullable = true)\n",
            " |-- is_exchangeable: boolean (nullable = true)\n",
            " |-- location_region: string (nullable = true)\n",
            " |-- number_of_photos: integer (nullable = true)\n",
            " |-- up_counter: integer (nullable = true)\n",
            " |-- feature_0: boolean (nullable = true)\n",
            " |-- feature_1: boolean (nullable = true)\n",
            " |-- feature_2: boolean (nullable = true)\n",
            " |-- feature_3: boolean (nullable = true)\n",
            " |-- feature_4: boolean (nullable = true)\n",
            " |-- feature_5: boolean (nullable = true)\n",
            " |-- feature_6: boolean (nullable = true)\n",
            " |-- feature_7: boolean (nullable = true)\n",
            " |-- feature_8: boolean (nullable = true)\n",
            " |-- feature_9: boolean (nullable = true)\n",
            " |-- duration_listed: integer (nullable = true)\n",
            "\n"
          ]
        }
      ]
    },
    {
      "cell_type": "code",
      "source": [
        "modelo_predominante = df.groupBy(['model_name']).count()\n",
        "modelo_predominante = modelo_predominante.sort(\"count\", ascending=False)\n",
        "modelo_predominante.show()"
      ],
      "metadata": {
        "colab": {
          "base_uri": "https://localhost:8080/"
        },
        "id": "vIr6QIgP3AHs",
        "outputId": "29921080-0971-4158-93a0-a3d39e85ac4b"
      },
      "execution_count": null,
      "outputs": [
        {
          "output_type": "stream",
          "name": "stdout",
          "text": [
            "+----------+-----+\n",
            "|model_name|count|\n",
            "+----------+-----+\n",
            "|    Passat| 1423|\n",
            "|     Astra|  751|\n",
            "|      Golf|  707|\n",
            "|        A6|  687|\n",
            "|    Mondeo|  637|\n",
            "|    Vectra|  565|\n",
            "|    Laguna|  548|\n",
            "|        A4|  505|\n",
            "|       406|  415|\n",
            "|     Omega|  387|\n",
            "|     Focus|  380|\n",
            "|    Megane|  377|\n",
            "|       100|  371|\n",
            "|   Octavia|  367|\n",
            "|    Zafira|  356|\n",
            "|    Xantia|  355|\n",
            "|       525|  354|\n",
            "|   Primera|  346|\n",
            "|    Scenic|  323|\n",
            "|       626|  321|\n",
            "+----------+-----+\n",
            "only showing top 20 rows\n",
            "\n"
          ]
        }
      ]
    },
    {
      "cell_type": "code",
      "source": [
        "modelo_predominante.write.mode(\"overwrite\").options(\n",
        "    header='True', delimiter=',').csv(\"/content/analises/modelo_predominante\")"
      ],
      "metadata": {
        "id": "e2yj5gcD4hWb"
      },
      "execution_count": null,
      "outputs": []
    }
  ],
  "metadata": {
    "colab": {
      "provenance": [],
      "toc_visible": true,
      "include_colab_link": true
    },
    "kernelspec": {
      "display_name": "Python 3",
      "language": "python",
      "name": "python3"
    },
    "language_info": {
      "codemirror_mode": {
        "name": "ipython",
        "version": 3
      },
      "file_extension": ".py",
      "mimetype": "text/x-python",
      "name": "python",
      "nbconvert_exporter": "python",
      "pygments_lexer": "ipython3",
      "version": "3.8.8"
    },
    "varInspector": {
      "cols": {
        "lenName": 16,
        "lenType": 16,
        "lenVar": 40
      },
      "kernels_config": {
        "python": {
          "delete_cmd_postfix": "",
          "delete_cmd_prefix": "del ",
          "library": "var_list.py",
          "varRefreshCmd": "print(var_dic_list())"
        },
        "r": {
          "delete_cmd_postfix": ") ",
          "delete_cmd_prefix": "rm(",
          "library": "var_list.r",
          "varRefreshCmd": "cat(var_dic_list()) "
        }
      },
      "types_to_exclude": [
        "module",
        "function",
        "builtin_function_or_method",
        "instance",
        "_Feature"
      ],
      "window_display": false
    }
  },
  "nbformat": 4,
  "nbformat_minor": 0
}